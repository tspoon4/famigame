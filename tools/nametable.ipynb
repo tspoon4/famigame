{
 "cells": [
  {
   "cell_type": "code",
   "execution_count": 10,
   "metadata": {},
   "outputs": [],
   "source": [
    "import sys\n",
    "import json\n",
    "import argparse\n",
    "import numpy as np # type: ignore\n",
    "from typing import Optional"
   ]
  },
  {
   "cell_type": "code",
   "execution_count": 11,
   "metadata": {},
   "outputs": [],
   "source": [
    "def __find_layer(document: dict, name: str) -> (Optional[dict], int):\n",
    "    layer, index = None, -1    \n",
    "    # Iterate over layers table to find the name\n",
    "    count = 0\n",
    "    for item in document[\"layers\"]:        \n",
    "        if item[\"name\"] == name:\n",
    "            layer, index = item, count\n",
    "            break\n",
    "        count += 1\n",
    "        \n",
    "    return layer, index"
   ]
  },
  {
   "cell_type": "code",
   "execution_count": 21,
   "metadata": {},
   "outputs": [],
   "source": [
    "def __validate_document(document: dict) -> bool:\n",
    "    result = True\n",
    "    # Check tile dimensions\n",
    "    if document[\"tilewidth\"] != 8 or document[\"tileheight\"] != 8:\n",
    "        result &= False\n",
    "        print(\"Error: Tile dimension is not 8x8\")\n",
    "    # Check layer dimensions and layer type    \n",
    "    for layer in document[\"layers\"]:\n",
    "        if layer[\"type\"] != 'tilelayer':\n",
    "            result &= False\n",
    "            print(\"Error: layer is not a tilelayer type\")\n",
    "        if layer[\"width\"] % 32 != 0:\n",
    "            result &= False\n",
    "            print(\"Error: layer width is not a multiple of 32\")\n",
    "        if layer[\"height\"] % 30 != 0:\n",
    "            result &= False\n",
    "            print(\"Error: layer height is not a multiple of 30\")\n",
    "    # Check tileset count is the same as layer count, later assuming \n",
    "    if len(document[\"tilesets\"]) != len(document[\"layers\"]):\n",
    "        result &= False\n",
    "        print(\"Error: tilesets count is not the same as layers count\")\n",
    "\n",
    "    return result        "
   ]
  },
  {
   "cell_type": "code",
   "execution_count": 22,
   "metadata": {},
   "outputs": [],
   "source": [
    "def export_nametable(document: dict, nametable: str, palettes: str) -> bytes:\n",
    "    data = list()\n",
    "    tilesets = document[\"tilesets\"]\n",
    "    \n",
    "    nt, ni = __find_layer(document, nametable)\n",
    "    pt, pi = __find_layer(document, palettes)\n",
    "    hcount, wcount = nt[\"height\"] // 30, nt[\"width\"] // 32\n",
    "    \n",
    "    namearray = np.array(nt[\"data\"]).reshape(hcount, 30, wcount, 32) - tilesets[ni][\"firstgid\"]\n",
    "    palettearray = np.array(pt[\"data\"]).reshape(hcount, 30, wcount, 32) - tilesets[pi][\"firstgid\"]\n",
    "    namearray = namearray.astype(dtype=np.uint8)\n",
    "    palettearray = palettearray.astype(dtype=np.uint8)\n",
    "    \n",
    "    for y in range(0, hcount):\n",
    "        for x in range(0, wcount):\n",
    "            data += namearray[y,:,x,:].flatten().tolist()\n",
    "            attr = palettearray[y,:,x,:].reshape((15, 2, 16, 2))\n",
    "            attrmin = attr.min(axis=(1, 3))\n",
    "            attrmax = attr.max(axis=(1, 3))\n",
    "            \n",
    "            if not np.all(np.less(attrmin, 4)):\n",
    "                print(\"Warning: layer 'palettes' contains values greated than 3\")\n",
    "            if not np.all(np.equal(attrmin, attrmax)):\n",
    "                print(\"Warning: layer 'palettes' doesn't contain similar block values\")\n",
    "                \n",
    "            a = np.vstack((attrmin, np.zeros(16, dtype=np.uint8))).reshape((8, 2, 8, 2))\n",
    "            for j in range(0, 8):\n",
    "                for i in range(0, 8):\n",
    "                    value = (a[j,1,i,1] << 6) | (a[j,1,i,0] << 4)\n",
    "                    value |= (a[j,0,i,1] << 2) | a[j,0,i,0]\n",
    "                    data.append(value)\n",
    "                \n",
    "    return bytes(data)"
   ]
  },
  {
   "cell_type": "code",
   "execution_count": 25,
   "metadata": {},
   "outputs": [],
   "source": [
    "def export_8_bits(document: dict, layer: str) -> bytes:\n",
    "    data = list()\n",
    "    tilesets = document[\"tilesets\"]\n",
    "\n",
    "    lr, li = __find_layer(document, layer)\n",
    "    hcount, wcount = lr[\"height\"] // 30, lr[\"width\"] // 32    \n",
    "    level = np.array(lr[\"data\"]).reshape(hcount, 30, wcount, 32) - tilesets[li][\"firstgid\"]\n",
    "    level = level.astype(dtype=np.uint8)\n",
    "    \n",
    "    for y in range(0, hcount):\n",
    "        for x in range(0, wcount):\n",
    "            data += level[y,:,x,:].flatten().tolist()\n",
    "\n",
    "    return bytes(data)"
   ]
  },
  {
   "cell_type": "code",
   "execution_count": 26,
   "metadata": {},
   "outputs": [],
   "source": [
    "def export_2_bits(document: dict, layer: str) -> bytes:\n",
    "    data = list()\n",
    "    tilesets = document[\"tilesets\"]\n",
    "\n",
    "    lr, li = __find_layer(document, layer)\n",
    "    hcount, wcount = lr[\"height\"] // 30, lr[\"width\"] // 32    \n",
    "    level = np.array(lr[\"data\"]).reshape(hcount, 30, wcount, 32) - tilesets[li][\"firstgid\"]\n",
    "    level = level.astype(dtype=np.uint8)\n",
    "    \n",
    "    for y in range(0, hcount):\n",
    "        for x in range(0, wcount):\n",
    "            tile = level[y,:,x,:].reshape((15, 2, 16, 2))            \n",
    "            if not np.all(np.less(tile, 4)):\n",
    "                print(\"Warning: layer contains values greater than 3\")\n",
    "                \n",
    "            for j in range(0, 15):\n",
    "                for i in range(0, 16):\n",
    "                    value = (tile[j,1,i,1] << 6) | (tile[j,1,i,0] << 4)\n",
    "                    value |= (tile[j,0,i,1] << 2) | tile[j,0,i,0]\n",
    "                    data.append(value)\n",
    "                    \n",
    "    return bytes(data)"
   ]
  },
  {
   "cell_type": "code",
   "execution_count": 27,
   "metadata": {},
   "outputs": [],
   "source": [
    "def main(argv: list) -> int:\n",
    "    result = 0\n",
    "    parser = argparse.ArgumentParser(description='Famicom pattern table tool')\n",
    "    parser.add_argument('--input', help='the input filename')\n",
    "    parser.add_argument('--output', help='the output filename')\n",
    "    parser.add_argument('--layer', help='the layer name in the data')\n",
    "    parser.add_argument('--b8', action='store_true', help='export data as 8 bits tables')\n",
    "    parser.add_argument('--b2', action='store_true', help='export data as 2 bits tables')\n",
    "    arguments = parser.parse_args()\n",
    "    \n",
    "    with open(arguments.input, 'r') as f:\n",
    "        document = json.load(f)\n",
    "    \n",
    "    if arguments.b8:\n",
    "        data = export_8_bits(document, arguments.layer)\n",
    "        if len(data) > 0:\n",
    "            with open(arguments.output, 'wb') as f1:\n",
    "                f1.write(data)\n",
    "    elif arguments.b2:\n",
    "        data = export_2_bits(document, arguments.layer)\n",
    "        if len(data) > 0:\n",
    "            with open(arguments.output, 'wb') as f2:\n",
    "                f2.write(data)\n",
    "    else:\n",
    "        data = export_nametable(document, 'nametable', 'palettes')\n",
    "        if len(data) > 0:\n",
    "            with open(arguments.output, 'wb') as f3:\n",
    "                f3.write(data)\n",
    "\n",
    "    return result"
   ]
  },
  {
   "cell_type": "code",
   "execution_count": null,
   "metadata": {},
   "outputs": [],
   "source": [
    "if __name__ == '__main__':\n",
    "    sys.exit(main(sys.argv))"
   ]
  }
 ],
 "metadata": {
  "kernelspec": {
   "display_name": "Python 3 (ipykernel)",
   "language": "python",
   "name": "python3"
  },
  "language_info": {
   "codemirror_mode": {
    "name": "ipython",
    "version": 3
   },
   "file_extension": ".py",
   "mimetype": "text/x-python",
   "name": "python",
   "nbconvert_exporter": "python",
   "pygments_lexer": "ipython3",
   "version": "3.10.12"
  }
 },
 "nbformat": 4,
 "nbformat_minor": 4
}
