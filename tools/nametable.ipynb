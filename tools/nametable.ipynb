{
 "cells": [
  {
   "cell_type": "code",
   "execution_count": 1,
   "metadata": {},
   "outputs": [],
   "source": [
    "import sys\n",
    "import json\n",
    "import argparse\n",
    "import numpy as np # type: ignore\n",
    "from typing import Optional"
   ]
  },
  {
   "cell_type": "code",
   "execution_count": null,
   "metadata": {},
   "outputs": [],
   "source": [
    "def __find_layer(document: dict, name: str) -> Optional[dict]:\n",
    "    layer = None\n",
    "    for item in document[\"layers\"]:        \n",
    "        if item[\"name\"] == name:\n",
    "            layer = item\n",
    "            break\n",
    "    return layer"
   ]
  },
  {
   "cell_type": "code",
   "execution_count": null,
   "metadata": {},
   "outputs": [],
   "source": [
    "def __validate_layer(layer: dict) -> bool:\n",
    "    result = True\n",
    "    if layer[\"type\"] != 'tilelayer':\n",
    "        result &= False\n",
    "    if layer[\"width\"] % 32 != 0:\n",
    "        result &= False\n",
    "    if layer[\"height\"] % 30 != 0:\n",
    "        result &= False\n",
    "    \n",
    "    return result"
   ]
  },
  {
   "cell_type": "code",
   "execution_count": null,
   "metadata": {},
   "outputs": [],
   "source": [
    "def export_nametable(nametable: dict, palettes: dict) -> bytes:\n",
    "    assert __validate_layer(nametable)\n",
    "    assert __validate_layer(palettes)\n",
    "    assert nametable[\"height\"] == palettes[\"height\"]\n",
    "    assert nametable[\"width\"] == palettes[\"width\"]\n",
    "    \n",
    "    data = list()\n",
    "    hcount, wcount = nametable[\"height\"] // 30, nametable[\"width\"] // 32\n",
    "    namearray = np.array(nametable[\"data\"], dtype=np.uint8).reshape(hcount, 30, wcount, 32) - 1\n",
    "    palettearray = np.array(palettes[\"data\"], dtype=np.uint8).reshape(hcount, 30, wcount, 32) - 1\n",
    "    for y in range(0, hcount):\n",
    "        for x in range(0, wcount):\n",
    "            data += namearray[y,:,x,:].flatten().tolist()\n",
    "            attr = palettearray[y,:,x,:].reshape((15, 2, 16, 2))\n",
    "            attrmin = attr.min(axis=(1, 3))\n",
    "            attrmax = attr.max(axis=(1, 3))\n",
    "            \n",
    "            if not np.all(np.less(attrmin, 4)):\n",
    "                print(\"Warning: layer 'palettes' contains values greated than 3\")\n",
    "            if not np.all(np.equal(attrmin, attrmax)):\n",
    "                print(\"Warning: layer 'palettes' doesn't contain similar block values\")\n",
    "                \n",
    "            a = np.vstack((attrmin, np.zeros(16, dtype=np.uint8))).reshape((8, 2, 8, 2))\n",
    "            for j in range(0, 8):\n",
    "                for i in range(0, 8):\n",
    "                    value = (a[j,1,i,1] << 6) | (a[j,1,i,0] << 4)\n",
    "                    value |= (a[j,0,i,1] << 2) | a[j,0,i,0]\n",
    "                    data.append(value)\n",
    "                \n",
    "    return bytes(data)"
   ]
  },
  {
   "cell_type": "code",
   "execution_count": null,
   "metadata": {},
   "outputs": [],
   "source": [
    "def export_8_bits(layer: dict) -> bytes:\n",
    "    assert __validate_layer(layer)\n",
    "    \n",
    "    data = list()\n",
    "    hcount, wcount = layer[\"height\"] // 30, layer[\"width\"] // 32\n",
    "    level = np.array(layer[\"data\"], dtype=np.uint8).reshape(hcount, 30, wcount, 32) - 1\n",
    "    for y in range(0, hcount):\n",
    "        for x in range(0, wcount):\n",
    "            data += level[y,:,x,:].flatten().tolist()\n",
    "\n",
    "    return bytes(data)"
   ]
  },
  {
   "cell_type": "code",
   "execution_count": null,
   "metadata": {},
   "outputs": [],
   "source": [
    "def export_2_bits(layer: dict) -> bytes:\n",
    "    assert __validate_layer(layer)\n",
    "    \n",
    "    data = list()\n",
    "    hcount, wcount = layer[\"height\"] // 30, layer[\"width\"] // 32\n",
    "    level = np.array(layer[\"data\"], dtype=np.uint8).reshape(hcount, 30, wcount, 32) - 1\n",
    "    for y in range(0, hcount):\n",
    "        for x in range(0, wcount):\n",
    "            tile = level[y,:,x,:].reshape((15, 2, 16, 2))            \n",
    "            if not np.all(np.less(tile, 4)):\n",
    "                print(\"Warning: layer contains values greater than 3\")\n",
    "                \n",
    "            for j in range(0, 15):\n",
    "                for i in range(0, 16):\n",
    "                    value = (tile[j,1,i,1] << 6) | (tile[j,1,i,0] << 4)\n",
    "                    value |= (tile[j,0,i,1] << 2) | tile[j,0,i,0]\n",
    "                    data.append(value)\n",
    "                    \n",
    "    return bytes(data)"
   ]
  },
  {
   "cell_type": "code",
   "execution_count": null,
   "metadata": {},
   "outputs": [],
   "source": [
    "def main(argv: list) -> int:\n",
    "    result = 0\n",
    "    parser = argparse.ArgumentParser(description='Famicom pattern table tool')\n",
    "    parser.add_argument('--input', help='the input filename')\n",
    "    parser.add_argument('--output', help='the output filename')\n",
    "    parser.add_argument('--layer', help='the layer name in the data')\n",
    "    parser.add_argument('--b8', action='store_true', help='export data as 8 bits tables')\n",
    "    parser.add_argument('--b2', action='store_true', help='export data as 2 bits tables')\n",
    "    arguments = parser.parse_args()\n",
    "    \n",
    "    with open(arguments.input, 'r') as f:\n",
    "        document = json.load(f)\n",
    "    \n",
    "    if arguments.b8:\n",
    "        layer = __find_layer(document, arguments.layer)        \n",
    "        if layer:\n",
    "            data = export_8_bits(layer)\n",
    "            with open(arguments.output, 'wb') as f1:\n",
    "                f1.write(data)\n",
    "        else:\n",
    "            print(\"Error: invalid layer name\")\n",
    "            result = -1\n",
    "    elif arguments.b2:\n",
    "        layer = __find_layer(document, arguments.layer)        \n",
    "        if layer:\n",
    "            data = export_2_bits(layer)\n",
    "            with open(arguments.output, 'wb') as f2:\n",
    "                f2.write(data)\n",
    "        else:\n",
    "            print(\"Error: invalid layer name\")\n",
    "            result = -1\n",
    "    else:\n",
    "        nametable = __find_layer(document, 'nametable')        \n",
    "        palettes = __find_layer(document, 'palettes')\n",
    "        if nametable and palettes:\n",
    "            data = export_nametable(nametable, palettes)\n",
    "            with open(arguments.output, 'wb') as f3:\n",
    "                f3.write(data)\n",
    "        else:\n",
    "            print(\"Error: missing layers 'nametable' or 'palettes'\")\n",
    "            result = -1\n",
    "\n",
    "    return result"
   ]
  },
  {
   "cell_type": "code",
   "execution_count": null,
   "metadata": {},
   "outputs": [],
   "source": [
    "if __name__ == '__main__':\n",
    "    sys.exit(main(sys.argv))"
   ]
  }
 ],
 "metadata": {
  "kernelspec": {
   "display_name": "Python 3",
   "language": "python",
   "name": "python3"
  },
  "language_info": {
   "codemirror_mode": {
    "name": "ipython",
    "version": 3
   },
   "file_extension": ".py",
   "mimetype": "text/x-python",
   "name": "python",
   "nbconvert_exporter": "python",
   "pygments_lexer": "ipython3",
   "version": "3.6.4"
  }
 },
 "nbformat": 4,
 "nbformat_minor": 2
}
