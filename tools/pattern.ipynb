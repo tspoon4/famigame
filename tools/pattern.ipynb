{
 "cells": [
  {
   "cell_type": "code",
   "execution_count": 1,
   "metadata": {},
   "outputs": [],
   "source": [
    "import sys\n",
    "import argparse\n",
    "import numpy as np # type: ignore\n",
    "from PIL import Image # type: ignore"
   ]
  },
  {
   "cell_type": "code",
   "execution_count": 2,
   "metadata": {},
   "outputs": [],
   "source": [
    "def validate_image(image: np.ndarray) -> np.ndarray:\n",
    "    img = np.rint(np.array(image) / 85.0) * 85.0\n",
    "    return img.astype(np.uint8)"
   ]
  },
  {
   "cell_type": "code",
   "execution_count": 3,
   "metadata": {},
   "outputs": [],
   "source": [
    "def image_to_pattern(image: np.ndarray) -> bytes:\n",
    "    data = list()\n",
    "    for j in range(0, 16):\n",
    "        for i in range(0, 16):\n",
    "            x, y = i*8, j*8\n",
    "            tile = image[y:y+8, x:x+8]\n",
    "            for p in range(0, 8):\n",
    "                p0 = 0\n",
    "                for b in range(0, 8):\n",
    "                    v = tile[p, b] // (255 // 3)\n",
    "                    p0 |= (v & 0x01) << (7 - b)\n",
    "                data.append(p0)\n",
    "            for p in range(0, 8):\n",
    "                p1 = 0\n",
    "                for b in range(0, 8):\n",
    "                    v = tile[p, b] // (255 // 3)\n",
    "                    p1 |= ((v >> 1) & 0x01) << (7 - b)\n",
    "                data.append(p1)\n",
    "                \n",
    "    return bytes(data)"
   ]
  },
  {
   "cell_type": "code",
   "execution_count": 4,
   "metadata": {},
   "outputs": [],
   "source": [
    "def pattern_to_image(pattern: bytes) -> np.ndarray:\n",
    "    image = np.zeros((16*8, 16*8), dtype=np.uint8)\n",
    "    for i in range(0, len(pattern) // 16):\n",
    "        tile = np.zeros((8, 8), dtype=np.uint8)\n",
    "        for p in range(0, 8):\n",
    "            p0 = pattern[i*16+p]\n",
    "            p1 = pattern[i*16+8+p]\n",
    "            for b in range(0, 8):\n",
    "                tile[p, b] = (((p1 >> (7 - b)) & 0x01) << 1) | (p0 >> (7 - b) & 0x01)\n",
    "        x, y = (i % 16) * 8, (i // 16) * 8\n",
    "        image[y:y+8, x:x+8] = tile * (255 // 3)\n",
    "    \n",
    "    return image"
   ]
  },
  {
   "cell_type": "code",
   "execution_count": 5,
   "metadata": {},
   "outputs": [],
   "source": [
    "def main(argv: list) -> int:\n",
    "    result = 0\n",
    "    parser = argparse.ArgumentParser(description='Famicom pattern table tool')\n",
    "    parser.add_argument('--input', help='the input filename')\n",
    "    parser.add_argument('--output', help='the output filename')\n",
    "    parser.add_argument('--i2p', action='store_true', help='image to pattern')\n",
    "    parser.add_argument('--p2i', action='store_true', help='pattern to image')    \n",
    "    arguments = parser.parse_args()\n",
    "    \n",
    "    if arguments.i2p:\n",
    "        img = Image.open(arguments.input)\n",
    "        if img.mode != 'L':\n",
    "            img = img.convert(mode='L')\n",
    "            print('Warning: input file format is not grayscale, automatic conversion...')            \n",
    "        image = np.array(img)\n",
    "        image = validate_image(image)\n",
    "        data = image_to_pattern(image)\n",
    "        with open(arguments.output, 'wb') as f:\n",
    "            f.write(data)\n",
    "    elif arguments.p2i:\n",
    "        with open(arguments.input, 'rb') as f:\n",
    "            data = f.read()\n",
    "            image = pattern_to_image(data)\n",
    "            img = Image.fromarray(image, mode='L')\n",
    "            img.save(arguments.output, format='PNG')\n",
    "\n",
    "    return result"
   ]
  },
  {
   "cell_type": "code",
   "execution_count": null,
   "metadata": {},
   "outputs": [],
   "source": [
    "if __name__ == '__main__':\n",
    "    sys.exit(main(sys.argv))"
   ]
  }
 ],
 "metadata": {
  "kernelspec": {
   "display_name": "Python 3",
   "language": "python",
   "name": "python3"
  },
  "language_info": {
   "codemirror_mode": {
    "name": "ipython",
    "version": 3
   },
   "file_extension": ".py",
   "mimetype": "text/x-python",
   "name": "python",
   "nbconvert_exporter": "python",
   "pygments_lexer": "ipython3",
   "version": "3.7.5"
  }
 },
 "nbformat": 4,
 "nbformat_minor": 2
}
